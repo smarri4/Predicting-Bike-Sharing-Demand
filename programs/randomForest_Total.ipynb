{
 "cells": [
  {
   "cell_type": "code",
   "execution_count": 3,
   "metadata": {
    "collapsed": false
   },
   "outputs": [],
   "source": [
    "import matplotlib.pyplot as plt\n",
    "import numpy as np\n",
    "import pandas as pd\n",
    "import scipy\n",
    "from sklearn.cross_validation import train_test_split\n",
    "from sklearn.svm import SVC # \"Support Vector Classifier\"\n",
    "from sklearn.svm import SVR #\"Support Vector Regression\"\n",
    "from sklearn.svm import NuSVR #\"Support Vector Regression\"\n",
    "from sklearn import preprocessing\n",
    "from sklearn.metrics import classification_report\n",
    "\n",
    "#from sklearn.kernel_ridge import KernelRidge\n",
    "from sklearn.grid_search import GridSearchCV\n",
    "from sklearn.metrics import confusion_matrix\n",
    "from sklearn.linear_model import LogisticRegression\n",
    "from sklearn.metrics import classification_report\n",
    "from sklearn.metrics import precision_recall_fscore_support\n",
    "from sklearn.metrics import accuracy_score\n",
    "from sklearn.cross_validation import cross_val_score\n",
    "from sklearn.ensemble import GradientBoostingClassifier\n",
    "from sklearn.ensemble import RandomForestClassifier\n",
    "import warnings\n",
    "from sklearn.cross_validation import ShuffleSplit\n",
    "#from sklearn.learning_curve import learning_curve\n",
    "from sklearn import preprocessing\n",
    "import warnings\n",
    "warnings.filterwarnings(\"ignore\", category=DeprecationWarning)"
   ]
  },
  {
   "cell_type": "code",
   "execution_count": 4,
   "metadata": {
    "collapsed": false
   },
   "outputs": [],
   "source": [
    "def readCSV():\n",
    "        data = pd.read_csv('hour.csv')\n",
    "        total_count_column=data['cnt']\n",
    "        m=data.sort(['cnt'],ascending=True)\n",
    "        m.cnt.cumsum()\n",
    "        g=np.arange(1,17380,1)\n",
    "        m['index']=g\n",
    "        q=m.set_index('index')\n",
    "        labels=[\"{0}-{1}\".format(i,i+1000) for i in range(0,17340,1000)]\n",
    "        q['group']=pd.cut(q.index,range(0,19000,1000),right=False, labels=labels)\n",
    "        target=q.group\n",
    "        numerical_features=data[['season','yr','mnth','hr','weekday','holiday','workingday','temp','atemp', \n",
    "                                 'hum','windspeed']]\n",
    "        Xval,y=numerical_features.values,target\n",
    "        X_train, X_test, y_train, y_test = train_test_split(Xval, y, test_size=0.15,\n",
    "                                                            random_state=0)\n",
    "\n",
    "        rf=RandomForestClassifier(n_estimators=20)\n",
    "        rf.fit(X_train, y_train)\n",
    "        scores=cross_val_score(rf,Xval,target,cv=10,n_jobs=4,scoring='precision')\n",
    "        \n",
    "        print(\"Results for total users' count\")\n",
    "        print(\"Minimum Cross Validation score: \" + str(scores.min()))\n",
    "        print(\"Mean Cross Validation score: \" + str(scores.mean()))\n",
    "        print(\"Maximum Cross Validation score: \" + str(scores.max()))\n",
    "        print(\"\\nFeature importance:\")\n",
    "        feat_imp = rf.feature_importances_\n",
    "        print(feat_imp)\n",
    "        plt.plot(feat_imp)\n",
    "        #plt.show()\n",
    "        \n",
    "        y_pred = rf.predict(X_test)\n",
    "        print(\"\\nClassification report:\")\n",
    "        print(classification_report(y_test, y_pred))\n",
    "        #print(precision_recall_fscore_support(y_test, y_pred))"
   ]
  },
  {
   "cell_type": "code",
   "execution_count": null,
   "metadata": {
    "collapsed": true
   },
   "outputs": [],
   "source": []
  },
  {
   "cell_type": "code",
   "execution_count": 5,
   "metadata": {
    "collapsed": false
   },
   "outputs": [
    {
     "name": "stderr",
     "output_type": "stream",
     "text": [
      "/home/avp/anaconda3/lib/python3.5/site-packages/ipykernel/__main__.py:4: FutureWarning: sort(columns=....) is deprecated, use sort_values(by=.....)\n"
     ]
    },
    {
     "name": "stdout",
     "output_type": "stream",
     "text": [
      "Results for total users' count\n",
      "Minimum Cross Validation score: 0.555875483106\n",
      "Mean Cross Validation score: 0.819688051234\n",
      "Maximum Cross Validation score: 0.960623440358\n",
      "\n",
      "Feature importance:\n",
      "[ 0.14829812  0.15758339  0.34816975  0.03808932  0.0341894   0.00233685\n",
      "  0.0094451   0.08852602  0.08516644  0.05414086  0.03405476]\n",
      "\n",
      "Classification report:\n",
      "             precision    recall  f1-score   support\n",
      "\n",
      "     0-1000       0.95      0.99      0.97       166\n",
      "  1000-2000       0.97      0.95      0.96       151\n",
      "10000-11000       0.97      0.84      0.90       165\n",
      "11000-12000       0.85      0.95      0.89       146\n",
      "12000-13000       0.98      0.92      0.95       146\n",
      "13000-14000       0.98      0.96      0.97       160\n",
      "14000-15000       0.95      0.98      0.96       148\n",
      "15000-16000       0.99      0.97      0.98       166\n",
      "16000-17000       0.95      0.98      0.96       147\n",
      "17000-18000       0.98      0.93      0.95        54\n",
      "  2000-3000       0.99      0.96      0.97       138\n",
      "  3000-4000       0.97      0.99      0.98       136\n",
      "  4000-5000       1.00      0.99      1.00       134\n",
      "  5000-6000       0.97      0.97      0.97       156\n",
      "  6000-7000       0.94      0.96      0.95       158\n",
      "  7000-8000       0.97      0.95      0.96       163\n",
      "  8000-9000       0.91      0.93      0.92       136\n",
      " 9000-10000       0.88      0.93      0.90       137\n",
      "\n",
      "avg / total       0.95      0.95      0.95      2607\n",
      "\n"
     ]
    },
    {
     "name": "stderr",
     "output_type": "stream",
     "text": [
      "/home/avp/anaconda3/lib/python3.5/site-packages/sklearn/metrics/classification.py:958: UndefinedMetricWarning: Precision is ill-defined and being set to 0.0 in labels with no predicted samples.\n",
      "  'precision', 'predicted', average, warn_for)\n"
     ]
    }
   ],
   "source": [
    "def main():\n",
    "        readCSV()\n",
    "\n",
    "if __name__== \"__main__\" :\n",
    "        main()\n"
   ]
  },
  {
   "cell_type": "code",
   "execution_count": null,
   "metadata": {
    "collapsed": true
   },
   "outputs": [],
   "source": []
  },
  {
   "cell_type": "code",
   "execution_count": null,
   "metadata": {
    "collapsed": true
   },
   "outputs": [],
   "source": []
  },
  {
   "cell_type": "code",
   "execution_count": 6,
   "metadata": {
    "collapsed": false
   },
   "outputs": [
    {
     "name": "stderr",
     "output_type": "stream",
     "text": [
      "/home/avp/anaconda3/lib/python3.5/site-packages/ipykernel/__main__.py:3: FutureWarning: sort(columns=....) is deprecated, use sort_values(by=.....)\n",
      "  app.launch_new_instance()\n"
     ]
    },
    {
     "name": "stdout",
     "output_type": "stream",
     "text": [
      "Results for total users' count\n",
      "Minimum Cross Validation score: 0.544622542152\n",
      "Mean Cross Validation score: 0.81980861056\n",
      "Maximum Cross Validation score: 0.955985224737\n",
      "\n",
      "Feature importance:\n",
      "[ 0.15630354  0.14660126  0.35022145  0.03744595  0.03428126  0.00248833\n",
      "  0.00876951  0.09713506  0.08258553  0.05169382  0.03247428]\n"
     ]
    },
    {
     "name": "stderr",
     "output_type": "stream",
     "text": [
      "/home/avp/anaconda3/lib/python3.5/site-packages/sklearn/metrics/classification.py:958: UndefinedMetricWarning: Precision is ill-defined and being set to 0.0 in labels with no predicted samples.\n",
      "  'precision', 'predicted', average, warn_for)\n"
     ]
    }
   ],
   "source": [
    "        data = pd.read_csv('hour.csv')\n",
    "        total_count_column=data['cnt']\n",
    "        m=data.sort(['cnt'],ascending=True)\n",
    "        m.cnt.cumsum()\n",
    "        g=np.arange(1,17380,1)\n",
    "        m['index']=g\n",
    "        q=m.set_index('index')\n",
    "        labels=[\"{0}-{1}\".format(i,i+1000) for i in range(0,17340,1000)]\n",
    "        q['group']=pd.cut(q.index,range(0,19000,1000),right=False, labels=labels)\n",
    "        target=q.group\n",
    "        numerical_features=data[['season','yr','mnth','hr','weekday','holiday','workingday','temp','atemp', \n",
    "                                 'hum','windspeed']]\n",
    "        Xval,y=numerical_features.values,target\n",
    "        X_train, X_test, y_train, y_test = train_test_split(Xval, y, test_size=0.15,\n",
    "                                                            random_state=0)\n",
    "\n",
    "        rf=RandomForestClassifier(n_estimators=20)\n",
    "        rf.fit(X_train, y_train)\n",
    "        scores=cross_val_score(rf,Xval,target,cv=10,n_jobs=4,scoring='precision')\n",
    "\n",
    "        print(\"Results for total users' count\")\n",
    "        print(\"Minimum Cross Validation score: \" + str(scores.min()))\n",
    "        print(\"Mean Cross Validation score: \" + str(scores.mean()))\n",
    "        print(\"Maximum Cross Validation score: \" + str(scores.max()))\n",
    "        print(\"\\nFeature importance:\")\n",
    "        feat_imp = rf.feature_importances_\n",
    "        print(feat_imp)\n",
    "        plt.plot(feat_imp)\n",
    "        #plt.show()\n",
    "        \n",
    "        y_pred = rf.predict(X_test)\n"
   ]
  },
  {
   "cell_type": "code",
   "execution_count": 7,
   "metadata": {
    "collapsed": false
   },
   "outputs": [
    {
     "data": {
      "text/plain": [
       "Index(['instant', 'dteday', 'season', 'yr', 'mnth', 'hr', 'holiday', 'weekday',\n",
       "       'workingday', 'weathersit', 'temp', 'atemp', 'hum', 'windspeed',\n",
       "       'casual', 'registered', 'cnt'],\n",
       "      dtype='object')"
      ]
     },
     "execution_count": 7,
     "metadata": {},
     "output_type": "execute_result"
    }
   ],
   "source": [
    "data.columns"
   ]
  },
  {
   "cell_type": "code",
   "execution_count": 8,
   "metadata": {
    "collapsed": true
   },
   "outputs": [],
   "source": [
    "features = ['season', 'yr', 'mnth', 'hr', 'weekday', 'holiday', 'workingday',\n",
    "       'temp', 'atemp', 'hum', 'windspeed']"
   ]
  },
  {
   "cell_type": "code",
   "execution_count": 9,
   "metadata": {
    "collapsed": false
   },
   "outputs": [],
   "source": [
    "indices = np.argsort(feat_imp)[::-1]"
   ]
  },
  {
   "cell_type": "code",
   "execution_count": 26,
   "metadata": {
    "collapsed": false
   },
   "outputs": [
    {
     "data": {
      "text/plain": [
       "array([ 2,  0,  1,  7,  8,  9,  3,  4, 10,  6,  5])"
      ]
     },
     "execution_count": 26,
     "metadata": {},
     "output_type": "execute_result"
    }
   ],
   "source": [
    "indices"
   ]
  },
  {
   "cell_type": "code",
   "execution_count": 10,
   "metadata": {
    "collapsed": false
   },
   "outputs": [
    {
     "data": {
      "text/plain": [
       "range(0, 11)"
      ]
     },
     "execution_count": 10,
     "metadata": {},
     "output_type": "execute_result"
    }
   ],
   "source": [
    "range(X_train.shape[1])"
   ]
  },
  {
   "cell_type": "code",
   "execution_count": 25,
   "metadata": {
    "collapsed": false
   },
   "outputs": [],
   "source": [
    "# Plot the feature importances of the forest\n",
    "plt.figure()\n",
    "plt.title(\"Feature importances for total count\")\n",
    "plt.xticks(indices, features)\n",
    "plt.bar(range(X_train.shape[1]), feat_imp[indices], align=\"center\", color=\"darkred\")\n",
    "plt.xlim([-1, X_train.shape[1]])\n",
    "plt.show()"
   ]
  },
  {
   "cell_type": "code",
   "execution_count": null,
   "metadata": {
    "collapsed": true
   },
   "outputs": [],
   "source": [
    "#plt.bar(range(X_train.shape[1]), feat_imp[indices],\n",
    " #      color=\"r\", align=\"center\")\n"
   ]
  },
  {
   "cell_type": "code",
   "execution_count": null,
   "metadata": {
    "collapsed": true
   },
   "outputs": [],
   "source": []
  },
  {
   "cell_type": "code",
   "execution_count": null,
   "metadata": {
    "collapsed": true
   },
   "outputs": [],
   "source": []
  }
 ],
 "metadata": {
  "kernelspec": {
   "display_name": "Python 3",
   "language": "python",
   "name": "python3"
  },
  "language_info": {
   "codemirror_mode": {
    "name": "ipython",
    "version": 3
   },
   "file_extension": ".py",
   "mimetype": "text/x-python",
   "name": "python",
   "nbconvert_exporter": "python",
   "pygments_lexer": "ipython3",
   "version": "3.5.0"
  }
 },
 "nbformat": 4,
 "nbformat_minor": 0
}
