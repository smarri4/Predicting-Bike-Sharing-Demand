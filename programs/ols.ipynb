{
 "cells": [
  {
   "cell_type": "code",
   "execution_count": 1,
   "metadata": {
    "collapsed": false,
    "scrolled": true
   },
   "outputs": [
    {
     "name": "stderr",
     "output_type": "stream",
     "text": [
      "/home/avp/anaconda3/lib/python3.5/site-packages/sklearn/utils/fixes.py:64: DeprecationWarning: inspect.getargspec() is deprecated, use inspect.signature() instead\n",
      "  if 'order' in inspect.getargspec(np.copy)[0]:\n"
     ]
    }
   ],
   "source": [
    "from __future__ import print_function\n",
    "\n",
    "import IPython as ip\n",
    "import numpy as np\n",
    "import scipy as scp\n",
    "import matplotlib.pyplot as plt\n",
    "import sklearn as skl\n",
    "import pandas as pd\n",
    "import math\n",
    "from sklearn.tree import DecisionTreeClassifier, DecisionTreeRegressor\n",
    "from fig_code import visualize_tree, plot_tree_interactive\n",
    "from sklearn.metrics import accuracy_score\n",
    "from sklearn.cross_validation import train_test_split\n",
    "from pandas.stats.api import ols\n",
    "from sklearn.metrics import classification_report\n",
    "import warnings\n",
    "warnings.filterwarnings(\"ignore\", category=DeprecationWarning)"
   ]
  },
  {
   "cell_type": "code",
   "execution_count": 2,
   "metadata": {
    "collapsed": false
   },
   "outputs": [],
   "source": [
    "df=pd.read_csv('hour.csv')\n",
    "dataframe=df\n",
    "dataframe=dataframe.drop(dataframe.columns[[0,3]], axis=1)\n",
    "#dataframe.head(2)"
   ]
  },
  {
   "cell_type": "code",
   "execution_count": 3,
   "metadata": {
    "collapsed": false
   },
   "outputs": [],
   "source": [
    "\n",
    "dataframe['log_count']=dataframe['cnt'].apply(lambda x: math.log(x+1.0))\n",
    "dataframe=dataframe.set_index('dteday')\n",
    "#dataframe.head(2)"
   ]
  },
  {
   "cell_type": "code",
   "execution_count": 4,
   "metadata": {
    "collapsed": false
   },
   "outputs": [],
   "source": [
    "dataframe['winter']=dataframe.season.apply(lambda x: 1 if x==1 else 0)\n",
    "dataframe['spring']=dataframe.season.apply(lambda x: 1 if x==2 else 0)\n",
    "dataframe['summer']=dataframe.season.apply(lambda x: 1 if x==3 else 0)\n",
    "dataframe['fall']=dataframe.season.apply(lambda x: 1 if x==4 else 0)\n",
    "#dataframe.head(2)"
   ]
  },
  {
   "cell_type": "code",
   "execution_count": 5,
   "metadata": {
    "collapsed": false
   },
   "outputs": [
    {
     "data": {
      "text/html": [
       "<div>\n",
       "<table border=\"1\" class=\"dataframe\">\n",
       "  <thead>\n",
       "    <tr style=\"text-align: right;\">\n",
       "      <th></th>\n",
       "      <th>season</th>\n",
       "      <th>mnth</th>\n",
       "      <th>hr</th>\n",
       "      <th>holiday</th>\n",
       "      <th>weekday</th>\n",
       "      <th>workingday</th>\n",
       "      <th>weathersit</th>\n",
       "      <th>temp</th>\n",
       "      <th>atemp</th>\n",
       "      <th>hum</th>\n",
       "      <th>...</th>\n",
       "      <th>logcasual</th>\n",
       "      <th>log_registered</th>\n",
       "      <th>winter_weather</th>\n",
       "      <th>spring_weather</th>\n",
       "      <th>summer_weather</th>\n",
       "      <th>fall_weather</th>\n",
       "      <th>winter_temp</th>\n",
       "      <th>sprint_temp</th>\n",
       "      <th>summer_temp</th>\n",
       "      <th>fall_temp</th>\n",
       "    </tr>\n",
       "    <tr>\n",
       "      <th>dteday</th>\n",
       "      <th></th>\n",
       "      <th></th>\n",
       "      <th></th>\n",
       "      <th></th>\n",
       "      <th></th>\n",
       "      <th></th>\n",
       "      <th></th>\n",
       "      <th></th>\n",
       "      <th></th>\n",
       "      <th></th>\n",
       "      <th></th>\n",
       "      <th></th>\n",
       "      <th></th>\n",
       "      <th></th>\n",
       "      <th></th>\n",
       "      <th></th>\n",
       "      <th></th>\n",
       "      <th></th>\n",
       "      <th></th>\n",
       "      <th></th>\n",
       "      <th></th>\n",
       "    </tr>\n",
       "  </thead>\n",
       "  <tbody>\n",
       "    <tr>\n",
       "      <th>2011-01-01</th>\n",
       "      <td>1</td>\n",
       "      <td>1</td>\n",
       "      <td>0</td>\n",
       "      <td>0</td>\n",
       "      <td>6</td>\n",
       "      <td>0</td>\n",
       "      <td>1</td>\n",
       "      <td>0.24</td>\n",
       "      <td>0.2879</td>\n",
       "      <td>0.81</td>\n",
       "      <td>...</td>\n",
       "      <td>1.386294</td>\n",
       "      <td>2.639057</td>\n",
       "      <td>1</td>\n",
       "      <td>0</td>\n",
       "      <td>0</td>\n",
       "      <td>0</td>\n",
       "      <td>0.2879</td>\n",
       "      <td>0</td>\n",
       "      <td>0</td>\n",
       "      <td>0</td>\n",
       "    </tr>\n",
       "    <tr>\n",
       "      <th>2011-01-01</th>\n",
       "      <td>1</td>\n",
       "      <td>1</td>\n",
       "      <td>1</td>\n",
       "      <td>0</td>\n",
       "      <td>6</td>\n",
       "      <td>0</td>\n",
       "      <td>1</td>\n",
       "      <td>0.22</td>\n",
       "      <td>0.2727</td>\n",
       "      <td>0.80</td>\n",
       "      <td>...</td>\n",
       "      <td>2.197225</td>\n",
       "      <td>3.496508</td>\n",
       "      <td>1</td>\n",
       "      <td>0</td>\n",
       "      <td>0</td>\n",
       "      <td>0</td>\n",
       "      <td>0.2727</td>\n",
       "      <td>0</td>\n",
       "      <td>0</td>\n",
       "      <td>0</td>\n",
       "    </tr>\n",
       "  </tbody>\n",
       "</table>\n",
       "<p>2 rows × 29 columns</p>\n",
       "</div>"
      ],
      "text/plain": [
       "            season  mnth  hr  holiday  weekday  workingday  weathersit  temp  \\\n",
       "dteday                                                                         \n",
       "2011-01-01       1     1   0        0        6           0           1  0.24   \n",
       "2011-01-01       1     1   1        0        6           0           1  0.22   \n",
       "\n",
       "             atemp   hum ...  logcasual  log_registered  winter_weather  spring_weather  summer_weather  fall_weather      winter_temp  \\\n",
       "dteday                   ...                                                  \n",
       "2011-01-01  0.2879  0.81 ...   1.386294  2.639057   1    0    0   0  0.2879   \n",
       "2011-01-01  0.2727  0.80 ...   2.197225  3.496508   1    0    0   0  0.2727   \n",
       "\n",
       "            sprint_temp  summer_temp  fall_temp  \n",
       "dteday                    \n",
       "2011-01-01    0    0   0  \n",
       "2011-01-01    0    0   0  \n",
       "\n",
       "[2 rows x 29 columns]"
      ]
     },
     "execution_count": 5,
     "metadata": {},
     "output_type": "execute_result"
    }
   ],
   "source": [
    "dataframe['logcasual']=dataframe['casual'].apply(lambda x: math.log(x+1.0))\n",
    "dataframe['log_registered']=dataframe['registered'].apply(lambda x: math.log(x+1.0))\n",
    "dataframe['winter_weather']=dataframe.winter*dataframe.weathersit\n",
    "dataframe['spring_weather']=dataframe.spring*dataframe.weathersit\n",
    "dataframe['summer_weather']=dataframe.summer*dataframe.weathersit\n",
    "dataframe['fall_weather']=dataframe.fall*dataframe.weathersit\n",
    "dataframe['winter_temp']=dataframe.winter*dataframe.atemp\n",
    "dataframe['sprint_temp']=dataframe.spring*dataframe.atemp\n",
    "dataframe['summer_temp']=dataframe.summer*dataframe.atemp\n",
    "dataframe['fall_temp']=dataframe.fall*dataframe.atemp\n",
    "dataframe.head(2)"
   ]
  },
  {
   "cell_type": "code",
   "execution_count": 7,
   "metadata": {
    "collapsed": false
   },
   "outputs": [
    {
     "data": {
      "text/plain": [
       "[<matplotlib.lines.Line2D at 0x7fcdd4070908>]"
      ]
     },
     "execution_count": 7,
     "metadata": {},
     "output_type": "execute_result"
    }
   ],
   "source": [
    "plt.plot(dataframe['hr'], dataframe['cnt'])\n",
    "#plt.show()"
   ]
  },
  {
   "cell_type": "code",
   "execution_count": null,
   "metadata": {
    "collapsed": false
   },
   "outputs": [],
   "source": [
    "dataframe.plot(x='hr', y=['log_count', 'logcasual', 'log_registered'], style='o', kind='bar', \n",
    "                title='Hourly bike count for log of total users', xlim=(0.5, 23.5), ylim=(0, 6))\n",
    "plt.xlabel('Hour')\n",
    "plt.ylabel('Total number of users')\n",
    "plt.show()"
   ]
  },
  {
   "cell_type": "code",
   "execution_count": null,
   "metadata": {
    "collapsed": true
   },
   "outputs": [],
   "source": [
    "dataframe.plot( x='hr', y='log_count', style='o', kind='line', title='Hourly count', xlim=(0.5, 23.5), ylim=(0, 6) )\n",
    "plt.xlabel('Hour')\n",
    "plt.ylabel('Number of users')\n",
    "plt.show()"
   ]
  },
  {
   "cell_type": "code",
   "execution_count": 8,
   "metadata": {
    "collapsed": false
   },
   "outputs": [],
   "source": [
    "numerical_features=dataframe[['season','mnth','weekday','holiday', 'workingday','temp','hum','windspeed',\n",
    "                               'weathersit', 'atemp','winter','spring','summer','fall',\n",
    "                               'winter_weather','spring_weather','summer_weather','fall_weather','winter_temp','sprint_temp','summer_temp','fall_temp', 'hr']]"
   ]
  },
  {
   "cell_type": "code",
   "execution_count": 9,
   "metadata": {
    "collapsed": false
   },
   "outputs": [
    {
     "name": "stdout",
     "output_type": "stream",
     "text": [
      "(17379, 29)\n",
      "(14772, 29)\n",
      "(2607, 29)\n"
     ]
    }
   ],
   "source": [
    "train, test = train_test_split(dataframe, test_size=0.15, random_state=0)\n",
    "print (dataframe.shape)\n",
    "print (train.shape)\n",
    "print (test.shape)"
   ]
  },
  {
   "cell_type": "code",
   "execution_count": 10,
   "metadata": {
    "collapsed": false
   },
   "outputs": [
    {
     "name": "stdout",
     "output_type": "stream",
     "text": [
      "20\n",
      "['spring', 'summer', 'winter', 'fall', 'winter_weather', 'spring_weather', 'summer_weather', 'fall_weather', 'winter_temp', 'sprint_temp', 'summer_temp', 'fall_temp', 'holiday', 'weekday', 'workingday', 'weathersit', 'temp', 'atemp', 'hum', 'windspeed']\n"
     ]
    }
   ],
   "source": [
    "seasons=['spring','summer','winter','fall']\n",
    "seasonweather=['winter_weather','spring_weather','summer_weather','fall_weather']\n",
    "seasontemp=['winter_temp','sprint_temp','summer_temp','fall_temp']\n",
    "features=seasons+seasonweather+seasontemp+['holiday','weekday', 'workingday', 'weathersit','temp',\n",
    "                                      'atemp','hum','windspeed']\n",
    "print (len(features))\n",
    "print (features)"
   ]
  },
  {
   "cell_type": "code",
   "execution_count": 32,
   "metadata": {
    "collapsed": false
   },
   "outputs": [],
   "source": [
    "# Regression model\n",
    "def calcCoef(hour,label):                                 # Will calculate coefficients for each bin\n",
    "    model = ols(y=train[(train.hr==hour)][label],         \n",
    "               x=train[(train.hr==hour)][features])\n",
    "    return model.beta\n",
    "hour=0\n",
    "casualCoeff=[]                                      # coefficients for the log of no. of casual users\n",
    "registeredCoeff=[]                                  # same for registered users\n",
    "totalCoeff=[]\n",
    "\n",
    "while hour<24:\n",
    "    casualCoeff.append(calcCoef(hour,'casual'))\n",
    "    registeredCoeff.append(calcCoef(hour,'registered'))\n",
    "    totalCoeff.append(calcCoef(hour, 'cnt'))\n",
    "    hour+=1\n"
   ]
  },
  {
   "cell_type": "code",
   "execution_count": 13,
   "metadata": {
    "collapsed": false
   },
   "outputs": [],
   "source": [
    "#coefficientsC[0]"
   ]
  },
  {
   "cell_type": "code",
   "execution_count": 30,
   "metadata": {
    "collapsed": false
   },
   "outputs": [],
   "source": [
    "def calcCount(coef, data):\n",
    "    res=coef['intercept']\n",
    "    for i in features:\n",
    "        res += coef[i]*data[i]\n",
    "    return round(res)"
   ]
  },
  {
   "cell_type": "code",
   "execution_count": null,
   "metadata": {
    "collapsed": false
   },
   "outputs": [],
   "source": [
    "#test.columns`"
   ]
  },
  {
   "cell_type": "code",
   "execution_count": 16,
   "metadata": {
    "collapsed": false
   },
   "outputs": [],
   "source": [
    "test=test.reset_index()"
   ]
  },
  {
   "cell_type": "code",
   "execution_count": 17,
   "metadata": {
    "collapsed": false
   },
   "outputs": [],
   "source": [
    "test['regPredict']=test.apply(lambda x: calcCount(registeredCoeff[x['hr']],x[features]) ,axis=1)"
   ]
  },
  {
   "cell_type": "code",
   "execution_count": 18,
   "metadata": {
    "collapsed": true
   },
   "outputs": [],
   "source": [
    "test['casPredict']=test.apply(lambda x: calcCount(casualCoeff[x['hr']],x[features]) ,axis=1)"
   ]
  },
  {
   "cell_type": "code",
   "execution_count": 19,
   "metadata": {
    "collapsed": true
   },
   "outputs": [],
   "source": [
    "test['totPredict']=test.apply(lambda x: calcCount(totalCoeff[x['hr']],x[features]) ,axis=1)"
   ]
  },
  {
   "cell_type": "code",
   "execution_count": 20,
   "metadata": {
    "collapsed": false
   },
   "outputs": [
    {
     "data": {
      "text/plain": [
       "Index(['dteday', 'season', 'mnth', 'hr', 'holiday', 'weekday', 'workingday',\n",
       "       'weathersit', 'temp', 'atemp', 'hum', 'windspeed', 'casual',\n",
       "       'registered', 'cnt', 'log_count', 'winter', 'spring', 'summer', 'fall',\n",
       "       'logcasual', 'log_registered', 'winter_weather', 'spring_weather', 'summer_weather', 'fall_weather', 'winter_temp', 'sprint_temp', 'summer_temp',\n",
       "       'fall_temp', 'regPredict', 'casPredict', 'totPredict'],\n",
       "      dtype='object')"
      ]
     },
     "execution_count": 20,
     "metadata": {},
     "output_type": "execute_result"
    }
   ],
   "source": [
    "test.columns"
   ]
  },
  {
   "cell_type": "code",
   "execution_count": null,
   "metadata": {
    "collapsed": false
   },
   "outputs": [],
   "source": [
    "#test['totAddition']=test.apply(lambda x: x['regPredict'] + x['casPredict'])"
   ]
  },
  {
   "cell_type": "code",
   "execution_count": 21,
   "metadata": {
    "collapsed": false
   },
   "outputs": [
    {
     "data": {
      "text/html": [
       "<div>\n",
       "<table border=\"1\" class=\"dataframe\">\n",
       "  <thead>\n",
       "    <tr style=\"text-align: right;\">\n",
       "      <th></th>\n",
       "      <th>casual</th>\n",
       "      <th>casPredict</th>\n",
       "      <th>registered</th>\n",
       "      <th>regPredict</th>\n",
       "      <th>cnt</th>\n",
       "      <th>totPredict</th>\n",
       "    </tr>\n",
       "  </thead>\n",
       "  <tbody>\n",
       "    <tr>\n",
       "      <th>0</th>\n",
       "      <td>4</td>\n",
       "      <td>2</td>\n",
       "      <td>3</td>\n",
       "      <td>8</td>\n",
       "      <td>7</td>\n",
       "      <td>10</td>\n",
       "    </tr>\n",
       "    <tr>\n",
       "      <th>1</th>\n",
       "      <td>1</td>\n",
       "      <td>1</td>\n",
       "      <td>4</td>\n",
       "      <td>6</td>\n",
       "      <td>5</td>\n",
       "      <td>7</td>\n",
       "    </tr>\n",
       "    <tr>\n",
       "      <th>2</th>\n",
       "      <td>81</td>\n",
       "      <td>27</td>\n",
       "      <td>662</td>\n",
       "      <td>345</td>\n",
       "      <td>743</td>\n",
       "      <td>372</td>\n",
       "    </tr>\n",
       "    <tr>\n",
       "      <th>3</th>\n",
       "      <td>45</td>\n",
       "      <td>50</td>\n",
       "      <td>163</td>\n",
       "      <td>91</td>\n",
       "      <td>208</td>\n",
       "      <td>141</td>\n",
       "    </tr>\n",
       "    <tr>\n",
       "      <th>4</th>\n",
       "      <td>83</td>\n",
       "      <td>51</td>\n",
       "      <td>250</td>\n",
       "      <td>221</td>\n",
       "      <td>333</td>\n",
       "      <td>272</td>\n",
       "    </tr>\n",
       "  </tbody>\n",
       "</table>\n",
       "</div>"
      ],
      "text/plain": [
       "   casual  casPredict  registered  regPredict  cnt  totPredict\n",
       "0       4           2           3           8    7          10\n",
       "1       1           1           4           6    5           7\n",
       "2      81          27         662         345  743         372\n",
       "3      45          50         163          91  208         141\n",
       "4      83          51         250         221  333         272"
      ]
     },
     "execution_count": 21,
     "metadata": {},
     "output_type": "execute_result"
    }
   ],
   "source": [
    "results=test[['casual', 'casPredict', 'registered', 'regPredict', 'cnt', 'totPredict']]\n",
    "results.head()"
   ]
  },
  {
   "cell_type": "code",
   "execution_count": null,
   "metadata": {
    "collapsed": false
   },
   "outputs": [],
   "source": [
    "res=results.casual-results.casPredict"
   ]
  },
  {
   "cell_type": "code",
   "execution_count": null,
   "metadata": {
    "collapsed": false
   },
   "outputs": [],
   "source": [
    "results.head(3)"
   ]
  },
  {
   "cell_type": "code",
   "execution_count": null,
   "metadata": {
    "collapsed": false
   },
   "outputs": [],
   "source": [
    "#results['rms_cas'] = results.apply(lambda x: x['casual'] - x['casPredict'])"
   ]
  },
  {
   "cell_type": "code",
   "execution_count": 22,
   "metadata": {
    "collapsed": false
   },
   "outputs": [
    {
     "name": "stderr",
     "output_type": "stream",
     "text": [
      "/home/avp/anaconda3/lib/python3.5/site-packages/ipykernel/__main__.py:1: SettingWithCopyWarning: \n",
      "A value is trying to be set on a copy of a slice from a DataFrame.\n",
      "Try using .loc[row_indexer,col_indexer] = value instead\n",
      "\n",
      "See the caveats in the documentation: http://pandas.pydata.org/pandas-docs/stable/indexing.html#indexing-view-versus-copy\n",
      "  if __name__ == '__main__':\n",
      "/home/avp/anaconda3/lib/python3.5/site-packages/ipykernel/__main__.py:2: SettingWithCopyWarning: \n",
      "A value is trying to be set on a copy of a slice from a DataFrame.\n",
      "Try using .loc[row_indexer,col_indexer] = value instead\n",
      "\n",
      "See the caveats in the documentation: http://pandas.pydata.org/pandas-docs/stable/indexing.html#indexing-view-versus-copy\n",
      "  from ipykernel import kernelapp as app\n",
      "/home/avp/anaconda3/lib/python3.5/site-packages/ipykernel/__main__.py:3: SettingWithCopyWarning: \n",
      "A value is trying to be set on a copy of a slice from a DataFrame.\n",
      "Try using .loc[row_indexer,col_indexer] = value instead\n",
      "\n",
      "See the caveats in the documentation: http://pandas.pydata.org/pandas-docs/stable/indexing.html#indexing-view-versus-copy\n",
      "  app.launch_new_instance()\n"
     ]
    }
   ],
   "source": [
    "results['casual']=results['casual']+0.01\n",
    "results['registered']=results['registered']+0.01\n",
    "results['cnt']=results['cnt']+0.01"
   ]
  },
  {
   "cell_type": "code",
   "execution_count": null,
   "metadata": {
    "collapsed": false
   },
   "outputs": [],
   "source": [
    "#results['rmse_cas'] = results.apply(lambda x: (np.square(x['casual'] - x['casPredict'])/x['casual']), axis=1)"
   ]
  },
  {
   "cell_type": "code",
   "execution_count": null,
   "metadata": {
    "collapsed": false
   },
   "outputs": [],
   "source": [
    "#results['accu_cas'] = (1 - results['rmse_cas'])*100\n",
    "#acc = results['accu_cas']"
   ]
  },
  {
   "cell_type": "code",
   "execution_count": null,
   "metadata": {
    "collapsed": false
   },
   "outputs": [],
   "source": [
    "results.head(2)"
   ]
  },
  {
   "cell_type": "code",
   "execution_count": null,
   "metadata": {
    "collapsed": false
   },
   "outputs": [],
   "source": [
    "#((results['casual'] - results['casPredict'])/(results['casual']))"
   ]
  },
  {
   "cell_type": "code",
   "execution_count": null,
   "metadata": {
    "collapsed": false
   },
   "outputs": [],
   "source": [
    "results.loc[2595]"
   ]
  },
  {
   "cell_type": "code",
   "execution_count": 23,
   "metadata": {
    "collapsed": false
   },
   "outputs": [],
   "source": [
    "squared_error_cas = (np.square((results['casual'] - results['casPredict'])))\n",
    "squared_error_reg = (np.square((results['registered'] - results['regPredict'])))\n",
    "squared_error_tot = (np.square((results['cnt'] - results['totPredict'])))\n",
    "#squared_error"
   ]
  },
  {
   "cell_type": "code",
   "execution_count": 24,
   "metadata": {
    "collapsed": false
   },
   "outputs": [],
   "source": [
    "divided_by_n_cas = (squared_error_cas/len(results))\n",
    "divided_by_n_reg = (squared_error_reg/len(results))\n",
    "divided_by_n_tot = (squared_error_tot/len(results))\n",
    "#divided_by_n"
   ]
  },
  {
   "cell_type": "code",
   "execution_count": 25,
   "metadata": {
    "collapsed": false
   },
   "outputs": [],
   "source": [
    "squared_error_cas = np.round(divided_by_n_cas, 6)\n",
    "squared_error_reg = np.round(divided_by_n_reg, 6)\n",
    "squared_error_tot = np.round(divided_by_n_tot, 6)\n",
    "#squared_error"
   ]
  },
  {
   "cell_type": "code",
   "execution_count": 26,
   "metadata": {
    "collapsed": false
   },
   "outputs": [],
   "source": [
    "mean_error_cas = np.mean(squared_error_cas)\n",
    "mean_error_reg = np.mean(squared_error_reg)\n",
    "mean_error_tot = np.mean(squared_error_tot)\n",
    "#mean_error"
   ]
  },
  {
   "cell_type": "code",
   "execution_count": null,
   "metadata": {
    "collapsed": false
   },
   "outputs": [],
   "source": [
    "rmsd = np.sqrt(mean_error)"
   ]
  },
  {
   "cell_type": "code",
   "execution_count": null,
   "metadata": {
    "collapsed": true
   },
   "outputs": [],
   "source": []
  },
  {
   "cell_type": "code",
   "execution_count": 27,
   "metadata": {
    "collapsed": true
   },
   "outputs": [],
   "source": [
    "from sklearn.metrics import mean_squared_error\n",
    "\n",
    "rmse_cas = np.sqrt(mean_squared_error(results['casual'], results['casPredict'] ))\n",
    "rmse_reg = np.sqrt(mean_squared_error(results['registered'], results['regPredict'] ))\n",
    "rmse_tot = np.sqrt(mean_squared_error(results['cnt'], results['totPredict'] ))"
   ]
  },
  {
   "cell_type": "code",
   "execution_count": 28,
   "metadata": {
    "collapsed": false
   },
   "outputs": [
    {
     "name": "stdout",
     "output_type": "stream",
     "text": [
      "25.2772725308\n",
      "67.025443247\n",
      "79.5938122741\n"
     ]
    }
   ],
   "source": [
    "print (rmse_cas)\n",
    "print (rmse_reg)\n",
    "print (rmse_tot)"
   ]
  },
  {
   "cell_type": "code",
   "execution_count": null,
   "metadata": {
    "collapsed": true
   },
   "outputs": [],
   "source": []
  },
  {
   "cell_type": "code",
   "execution_count": null,
   "metadata": {
    "collapsed": true
   },
   "outputs": [],
   "source": []
  },
  {
   "cell_type": "code",
   "execution_count": null,
   "metadata": {
    "collapsed": false
   },
   "outputs": [],
   "source": [
    "test['regCntPredicted']=test.logRegPredicted.apply(lambda x: round(math.exp(x)-1))\n",
    "test['casCntPredicted']=test.logCasPredicted.apply(lambda x: round(math.exp(x)-1))\n",
    "test['totCntPredicted']=test.logTotPredicted.apply(lambda x: round(math.exp(x)-1))\n",
    "#test['']"
   ]
  },
  {
   "cell_type": "code",
   "execution_count": 11,
   "metadata": {
    "collapsed": false
   },
   "outputs": [],
   "source": [
    "# Regression model; backup copy for reference\n",
    "def calcCoef(hour,label):                                 # Will calculate coefficients for each bin\n",
    "    return ols(y=train[(train.hr==hour)][label], \n",
    "               x=train[(train.hr==hour)][features]).beta\n",
    "hour=0\n",
    "casualCoeff=[]                                      # coefficients for the log of no. of casual users\n",
    "registeredCoeff=[]                                  # same for registered users\n",
    "totalCoeff=[]\n",
    "\n",
    "while hour<24:\n",
    "    casualCoeff.append(calcCoef(hour,'casual'))\n",
    "    registeredCoeff.append(calcCoef(hour,'registered'))\n",
    "    totalCoeff.append(calcCoef(hour, 'cnt'))\n",
    "    hour+=1\n"
   ]
  }
 ],
 "metadata": {
  "kernelspec": {
   "display_name": "Python 3",
   "language": "python",
   "name": "python3"
  },
  "language_info": {
   "codemirror_mode": {
    "name": "ipython",
    "version": 3
   },
   "file_extension": ".py",
   "mimetype": "text/x-python",
   "name": "python",
   "nbconvert_exporter": "python",
   "pygments_lexer": "ipython3",
   "version": "3.5.0"
  }
 },
 "nbformat": 4,
 "nbformat_minor": 0
}
